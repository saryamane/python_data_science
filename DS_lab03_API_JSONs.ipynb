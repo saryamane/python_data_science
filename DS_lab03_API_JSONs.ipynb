{
 "metadata": {
  "name": ""
 },
 "nbformat": 3,
 "nbformat_minor": 0,
 "worksheets": [
  {
   "cells": [
    {
     "cell_type": "code",
     "collapsed": false,
     "input": [
      "import pandas as pd"
     ],
     "language": "python",
     "metadata": {},
     "outputs": [],
     "prompt_number": 1
    },
    {
     "cell_type": "code",
     "collapsed": false,
     "input": [
      "data = pd.read_csv(\"/Users/saryamane/Desktop/python_data_science/titanic-train.csv\")"
     ],
     "language": "python",
     "metadata": {},
     "outputs": [],
     "prompt_number": 2
    },
    {
     "cell_type": "code",
     "collapsed": false,
     "input": [
      "data.head()"
     ],
     "language": "python",
     "metadata": {},
     "outputs": [
      {
       "html": [
        "<div style=\"max-height:1000px;max-width:1500px;overflow:auto;\">\n",
        "<table border=\"1\" class=\"dataframe\">\n",
        "  <thead>\n",
        "    <tr style=\"text-align: right;\">\n",
        "      <th></th>\n",
        "      <th>PassengerId</th>\n",
        "      <th>Survived</th>\n",
        "      <th>Pclass</th>\n",
        "      <th>Name</th>\n",
        "      <th>Sex</th>\n",
        "      <th>Age</th>\n",
        "      <th>SibSp</th>\n",
        "      <th>Parch</th>\n",
        "      <th>Ticket</th>\n",
        "      <th>Fare</th>\n",
        "      <th>Cabin</th>\n",
        "      <th>Embarked</th>\n",
        "    </tr>\n",
        "  </thead>\n",
        "  <tbody>\n",
        "    <tr>\n",
        "      <th>0</th>\n",
        "      <td> 1</td>\n",
        "      <td> 0</td>\n",
        "      <td> 3</td>\n",
        "      <td>                           Braund, Mr. Owen Harris</td>\n",
        "      <td>   male</td>\n",
        "      <td> 22</td>\n",
        "      <td> 1</td>\n",
        "      <td> 0</td>\n",
        "      <td>        A/5 21171</td>\n",
        "      <td>  7.2500</td>\n",
        "      <td>  NaN</td>\n",
        "      <td> S</td>\n",
        "    </tr>\n",
        "    <tr>\n",
        "      <th>1</th>\n",
        "      <td> 2</td>\n",
        "      <td> 1</td>\n",
        "      <td> 1</td>\n",
        "      <td> Cumings, Mrs. John Bradley (Florence Briggs Th...</td>\n",
        "      <td> female</td>\n",
        "      <td> 38</td>\n",
        "      <td> 1</td>\n",
        "      <td> 0</td>\n",
        "      <td>         PC 17599</td>\n",
        "      <td> 71.2833</td>\n",
        "      <td>  C85</td>\n",
        "      <td> C</td>\n",
        "    </tr>\n",
        "    <tr>\n",
        "      <th>2</th>\n",
        "      <td> 3</td>\n",
        "      <td> 1</td>\n",
        "      <td> 3</td>\n",
        "      <td>                            Heikkinen, Miss. Laina</td>\n",
        "      <td> female</td>\n",
        "      <td> 26</td>\n",
        "      <td> 0</td>\n",
        "      <td> 0</td>\n",
        "      <td> STON/O2. 3101282</td>\n",
        "      <td>  7.9250</td>\n",
        "      <td>  NaN</td>\n",
        "      <td> S</td>\n",
        "    </tr>\n",
        "    <tr>\n",
        "      <th>3</th>\n",
        "      <td> 4</td>\n",
        "      <td> 1</td>\n",
        "      <td> 1</td>\n",
        "      <td>      Futrelle, Mrs. Jacques Heath (Lily May Peel)</td>\n",
        "      <td> female</td>\n",
        "      <td> 35</td>\n",
        "      <td> 1</td>\n",
        "      <td> 0</td>\n",
        "      <td>           113803</td>\n",
        "      <td> 53.1000</td>\n",
        "      <td> C123</td>\n",
        "      <td> S</td>\n",
        "    </tr>\n",
        "    <tr>\n",
        "      <th>4</th>\n",
        "      <td> 5</td>\n",
        "      <td> 0</td>\n",
        "      <td> 3</td>\n",
        "      <td>                          Allen, Mr. William Henry</td>\n",
        "      <td>   male</td>\n",
        "      <td> 35</td>\n",
        "      <td> 0</td>\n",
        "      <td> 0</td>\n",
        "      <td>           373450</td>\n",
        "      <td>  8.0500</td>\n",
        "      <td>  NaN</td>\n",
        "      <td> S</td>\n",
        "    </tr>\n",
        "  </tbody>\n",
        "</table>\n",
        "<p>5 rows \u00d7 12 columns</p>\n",
        "</div>"
       ],
       "metadata": {},
       "output_type": "pyout",
       "prompt_number": 3,
       "text": [
        "   PassengerId  Survived  Pclass  \\\n",
        "0            1         0       3   \n",
        "1            2         1       1   \n",
        "2            3         1       3   \n",
        "3            4         1       1   \n",
        "4            5         0       3   \n",
        "\n",
        "                                                Name     Sex  Age  SibSp  \\\n",
        "0                            Braund, Mr. Owen Harris    male   22      1   \n",
        "1  Cumings, Mrs. John Bradley (Florence Briggs Th...  female   38      1   \n",
        "2                             Heikkinen, Miss. Laina  female   26      0   \n",
        "3       Futrelle, Mrs. Jacques Heath (Lily May Peel)  female   35      1   \n",
        "4                           Allen, Mr. William Henry    male   35      0   \n",
        "\n",
        "   Parch            Ticket     Fare Cabin Embarked  \n",
        "0      0         A/5 21171   7.2500   NaN        S  \n",
        "1      0          PC 17599  71.2833   C85        C  \n",
        "2      0  STON/O2. 3101282   7.9250   NaN        S  \n",
        "3      0            113803  53.1000  C123        S  \n",
        "4      0            373450   8.0500   NaN        S  \n",
        "\n",
        "[5 rows x 12 columns]"
       ]
      }
     ],
     "prompt_number": 3
    },
    {
     "cell_type": "code",
     "collapsed": false,
     "input": [
      "first = data.head(5)"
     ],
     "language": "python",
     "metadata": {},
     "outputs": [],
     "prompt_number": 4
    },
    {
     "cell_type": "code",
     "collapsed": false,
     "input": [
      "first"
     ],
     "language": "python",
     "metadata": {},
     "outputs": [
      {
       "html": [
        "<div style=\"max-height:1000px;max-width:1500px;overflow:auto;\">\n",
        "<table border=\"1\" class=\"dataframe\">\n",
        "  <thead>\n",
        "    <tr style=\"text-align: right;\">\n",
        "      <th></th>\n",
        "      <th>PassengerId</th>\n",
        "      <th>Survived</th>\n",
        "      <th>Pclass</th>\n",
        "      <th>Name</th>\n",
        "      <th>Sex</th>\n",
        "      <th>Age</th>\n",
        "      <th>SibSp</th>\n",
        "      <th>Parch</th>\n",
        "      <th>Ticket</th>\n",
        "      <th>Fare</th>\n",
        "      <th>Cabin</th>\n",
        "      <th>Embarked</th>\n",
        "    </tr>\n",
        "  </thead>\n",
        "  <tbody>\n",
        "    <tr>\n",
        "      <th>0</th>\n",
        "      <td> 1</td>\n",
        "      <td> 0</td>\n",
        "      <td> 3</td>\n",
        "      <td>                           Braund, Mr. Owen Harris</td>\n",
        "      <td>   male</td>\n",
        "      <td> 22</td>\n",
        "      <td> 1</td>\n",
        "      <td> 0</td>\n",
        "      <td>        A/5 21171</td>\n",
        "      <td>  7.2500</td>\n",
        "      <td>  NaN</td>\n",
        "      <td> S</td>\n",
        "    </tr>\n",
        "    <tr>\n",
        "      <th>1</th>\n",
        "      <td> 2</td>\n",
        "      <td> 1</td>\n",
        "      <td> 1</td>\n",
        "      <td> Cumings, Mrs. John Bradley (Florence Briggs Th...</td>\n",
        "      <td> female</td>\n",
        "      <td> 38</td>\n",
        "      <td> 1</td>\n",
        "      <td> 0</td>\n",
        "      <td>         PC 17599</td>\n",
        "      <td> 71.2833</td>\n",
        "      <td>  C85</td>\n",
        "      <td> C</td>\n",
        "    </tr>\n",
        "    <tr>\n",
        "      <th>2</th>\n",
        "      <td> 3</td>\n",
        "      <td> 1</td>\n",
        "      <td> 3</td>\n",
        "      <td>                            Heikkinen, Miss. Laina</td>\n",
        "      <td> female</td>\n",
        "      <td> 26</td>\n",
        "      <td> 0</td>\n",
        "      <td> 0</td>\n",
        "      <td> STON/O2. 3101282</td>\n",
        "      <td>  7.9250</td>\n",
        "      <td>  NaN</td>\n",
        "      <td> S</td>\n",
        "    </tr>\n",
        "    <tr>\n",
        "      <th>3</th>\n",
        "      <td> 4</td>\n",
        "      <td> 1</td>\n",
        "      <td> 1</td>\n",
        "      <td>      Futrelle, Mrs. Jacques Heath (Lily May Peel)</td>\n",
        "      <td> female</td>\n",
        "      <td> 35</td>\n",
        "      <td> 1</td>\n",
        "      <td> 0</td>\n",
        "      <td>           113803</td>\n",
        "      <td> 53.1000</td>\n",
        "      <td> C123</td>\n",
        "      <td> S</td>\n",
        "    </tr>\n",
        "    <tr>\n",
        "      <th>4</th>\n",
        "      <td> 5</td>\n",
        "      <td> 0</td>\n",
        "      <td> 3</td>\n",
        "      <td>                          Allen, Mr. William Henry</td>\n",
        "      <td>   male</td>\n",
        "      <td> 35</td>\n",
        "      <td> 0</td>\n",
        "      <td> 0</td>\n",
        "      <td>           373450</td>\n",
        "      <td>  8.0500</td>\n",
        "      <td>  NaN</td>\n",
        "      <td> S</td>\n",
        "    </tr>\n",
        "  </tbody>\n",
        "</table>\n",
        "<p>5 rows \u00d7 12 columns</p>\n",
        "</div>"
       ],
       "metadata": {},
       "output_type": "pyout",
       "prompt_number": 5,
       "text": [
        "   PassengerId  Survived  Pclass  \\\n",
        "0            1         0       3   \n",
        "1            2         1       1   \n",
        "2            3         1       3   \n",
        "3            4         1       1   \n",
        "4            5         0       3   \n",
        "\n",
        "                                                Name     Sex  Age  SibSp  \\\n",
        "0                            Braund, Mr. Owen Harris    male   22      1   \n",
        "1  Cumings, Mrs. John Bradley (Florence Briggs Th...  female   38      1   \n",
        "2                             Heikkinen, Miss. Laina  female   26      0   \n",
        "3       Futrelle, Mrs. Jacques Heath (Lily May Peel)  female   35      1   \n",
        "4                           Allen, Mr. William Henry    male   35      0   \n",
        "\n",
        "   Parch            Ticket     Fare Cabin Embarked  \n",
        "0      0         A/5 21171   7.2500   NaN        S  \n",
        "1      0          PC 17599  71.2833   C85        C  \n",
        "2      0  STON/O2. 3101282   7.9250   NaN        S  \n",
        "3      0            113803  53.1000  C123        S  \n",
        "4      0            373450   8.0500   NaN        S  \n",
        "\n",
        "[5 rows x 12 columns]"
       ]
      }
     ],
     "prompt_number": 5
    },
    {
     "cell_type": "code",
     "collapsed": false,
     "input": [
      "first.to_json(orient = 'records')"
     ],
     "language": "python",
     "metadata": {},
     "outputs": [
      {
       "metadata": {},
       "output_type": "pyout",
       "prompt_number": 8,
       "text": [
        "'[{\"PassengerId\":1,\"Survived\":0,\"Pclass\":3,\"Name\":\"Braund, Mr. Owen Harris\",\"Sex\":\"male\",\"Age\":22.0,\"SibSp\":1,\"Parch\":0,\"Ticket\":\"A\\\\/5 21171\",\"Fare\":7.25,\"Cabin\":null,\"Embarked\":\"S\"},{\"PassengerId\":2,\"Survived\":1,\"Pclass\":1,\"Name\":\"Cumings, Mrs. John Bradley (Florence Briggs Thayer)\",\"Sex\":\"female\",\"Age\":38.0,\"SibSp\":1,\"Parch\":0,\"Ticket\":\"PC 17599\",\"Fare\":71.2833,\"Cabin\":\"C85\",\"Embarked\":\"C\"},{\"PassengerId\":3,\"Survived\":1,\"Pclass\":3,\"Name\":\"Heikkinen, Miss. Laina\",\"Sex\":\"female\",\"Age\":26.0,\"SibSp\":0,\"Parch\":0,\"Ticket\":\"STON\\\\/O2. 3101282\",\"Fare\":7.925,\"Cabin\":null,\"Embarked\":\"S\"},{\"PassengerId\":4,\"Survived\":1,\"Pclass\":1,\"Name\":\"Futrelle, Mrs. Jacques Heath (Lily May Peel)\",\"Sex\":\"female\",\"Age\":35.0,\"SibSp\":1,\"Parch\":0,\"Ticket\":\"113803\",\"Fare\":53.1,\"Cabin\":\"C123\",\"Embarked\":\"S\"},{\"PassengerId\":5,\"Survived\":0,\"Pclass\":3,\"Name\":\"Allen, Mr. William Henry\",\"Sex\":\"male\",\"Age\":35.0,\"SibSp\":0,\"Parch\":0,\"Ticket\":\"373450\",\"Fare\":8.05,\"Cabin\":null,\"Embarked\":\"S\"}]'"
       ]
      }
     ],
     "prompt_number": 8
    },
    {
     "cell_type": "code",
     "collapsed": false,
     "input": [
      "import urllib"
     ],
     "language": "python",
     "metadata": {},
     "outputs": [],
     "prompt_number": 11
    },
    {
     "cell_type": "code",
     "collapsed": false,
     "input": [
      "def get_historical_prices(symbol, start_date, end_date):\n",
      "    url = 'http://ichart.yahoo.com/table.csv?s=%s&' % symbol + \\\n",
      "          'd=%s&' % str(int(end_date[4:6]) - 1) + \\\n",
      "          'e=%s&' % str(int(end_date[6:8])) + \\\n",
      "          'f=%s&' % str(int(end_date[0:4])) + \\\n",
      "          'g=d&' + \\\n",
      "          'a=%s&' % str(int(start_date[4:6]) - 1) + \\\n",
      "          'b=%s&' % str(int(start_date[6:8])) + \\\n",
      "          'c=%s&' % str(int(start_date[0:4])) + \\\n",
      "          'ignore=.csv'\n",
      "            \n",
      "    days = urllib.urlopen(url).readlines()\n",
      "    data = [day[:-2].split(',') for day in days]\n",
      "    return data\n",
      "\n",
      "print data"
     ],
     "language": "python",
     "metadata": {},
     "outputs": [
      {
       "output_type": "stream",
       "stream": "stdout",
       "text": [
        "    PassengerId  Survived  Pclass  \\\n",
        "0             1         0       3   \n",
        "1             2         1       1   \n",
        "2             3         1       3   \n",
        "3             4         1       1   \n",
        "4             5         0       3   \n",
        "5             6         0       3   \n",
        "6             7         0       1   \n",
        "7             8         0       3   \n",
        "8             9         1       3   \n",
        "9            10         1       2   \n",
        "10           11         1       3   \n",
        "11           12         1       1   \n",
        "12           13         0       3   \n",
        "13           14         0       3   \n",
        "14           15         0       3   \n",
        "15           16         1       2   \n",
        "16           17         0       3   \n",
        "17           18         1       2   \n",
        "18           19         0       3   \n",
        "19           20         1       3   \n",
        "20           21         0       2   \n",
        "21           22         1       2   \n",
        "22           23         1       3   \n",
        "23           24         1       1   \n",
        "24           25         0       3   \n",
        "25           26         1       3   \n",
        "26           27         0       3   \n",
        "27           28         0       1   \n",
        "28           29         1       3   \n",
        "29           30         0       3   \n",
        "30           31         0       1   \n",
        "31           32         1       1   \n",
        "32           33         1       3   \n",
        "33           34         0       2   \n",
        "34           35         0       1   \n",
        "35           36         0       1   \n",
        "36           37         1       3   \n",
        "37           38         0       3   \n",
        "38           39         0       3   \n",
        "39           40         1       3   \n",
        "40           41         0       3   \n",
        "41           42         0       2   \n",
        "42           43         0       3   \n",
        "43           44         1       2   \n",
        "44           45         1       3   \n",
        "45           46         0       3   \n",
        "46           47         0       3   \n",
        "47           48         1       3   \n",
        "48           49         0       3   \n",
        "49           50         0       3   \n",
        "50           51         0       3   \n",
        "51           52         0       3   \n",
        "52           53         1       1   \n",
        "53           54         1       2   \n",
        "54           55         0       1   \n",
        "55           56         1       1   \n",
        "56           57         1       2   \n",
        "57           58         0       3   \n",
        "58           59         1       2   \n",
        "59           60         0       3   \n",
        "            ...       ...     ...   \n",
        "\n",
        "                                                 Name     Sex   Age  SibSp  \\\n",
        "0                             Braund, Mr. Owen Harris    male  22.0      1   \n",
        "1   Cumings, Mrs. John Bradley (Florence Briggs Th...  female  38.0      1   \n",
        "2                              Heikkinen, Miss. Laina  female  26.0      0   \n",
        "3        Futrelle, Mrs. Jacques Heath (Lily May Peel)  female  35.0      1   \n",
        "4                            Allen, Mr. William Henry    male  35.0      0   \n",
        "5                                    Moran, Mr. James    male   NaN      0   \n",
        "6                             McCarthy, Mr. Timothy J    male  54.0      0   \n",
        "7                      Palsson, Master. Gosta Leonard    male   2.0      3   \n",
        "8   Johnson, Mrs. Oscar W (Elisabeth Vilhelmina Berg)  female  27.0      0   \n",
        "9                 Nasser, Mrs. Nicholas (Adele Achem)  female  14.0      1   \n",
        "10                    Sandstrom, Miss. Marguerite Rut  female   4.0      1   \n",
        "11                           Bonnell, Miss. Elizabeth  female  58.0      0   \n",
        "12                     Saundercock, Mr. William Henry    male  20.0      0   \n",
        "13                        Andersson, Mr. Anders Johan    male  39.0      1   \n",
        "14               Vestrom, Miss. Hulda Amanda Adolfina  female  14.0      0   \n",
        "15                   Hewlett, Mrs. (Mary D Kingcome)   female  55.0      0   \n",
        "16                               Rice, Master. Eugene    male   2.0      4   \n",
        "17                       Williams, Mr. Charles Eugene    male   NaN      0   \n",
        "18  Vander Planke, Mrs. Julius (Emelia Maria Vande...  female  31.0      1   \n",
        "19                            Masselmani, Mrs. Fatima  female   NaN      0   \n",
        "20                               Fynney, Mr. Joseph J    male  35.0      0   \n",
        "21                              Beesley, Mr. Lawrence    male  34.0      0   \n",
        "22                        McGowan, Miss. Anna \"Annie\"  female  15.0      0   \n",
        "23                       Sloper, Mr. William Thompson    male  28.0      0   \n",
        "24                      Palsson, Miss. Torborg Danira  female   8.0      3   \n",
        "25  Asplund, Mrs. Carl Oscar (Selma Augusta Emilia...  female  38.0      1   \n",
        "26                            Emir, Mr. Farred Chehab    male   NaN      0   \n",
        "27                     Fortune, Mr. Charles Alexander    male  19.0      3   \n",
        "28                      O'Dwyer, Miss. Ellen \"Nellie\"  female   NaN      0   \n",
        "29                                Todoroff, Mr. Lalio    male   NaN      0   \n",
        "30                           Uruchurtu, Don. Manuel E    male  40.0      0   \n",
        "31     Spencer, Mrs. William Augustus (Marie Eugenie)  female   NaN      1   \n",
        "32                           Glynn, Miss. Mary Agatha  female   NaN      0   \n",
        "33                              Wheadon, Mr. Edward H    male  66.0      0   \n",
        "34                            Meyer, Mr. Edgar Joseph    male  28.0      1   \n",
        "35                     Holverson, Mr. Alexander Oskar    male  42.0      1   \n",
        "36                                   Mamee, Mr. Hanna    male   NaN      0   \n",
        "37                           Cann, Mr. Ernest Charles    male  21.0      0   \n",
        "38                 Vander Planke, Miss. Augusta Maria  female  18.0      2   \n",
        "39                        Nicola-Yarred, Miss. Jamila  female  14.0      1   \n",
        "40     Ahlin, Mrs. Johan (Johanna Persdotter Larsson)  female  40.0      1   \n",
        "41  Turpin, Mrs. William John Robert (Dorothy Ann ...  female  27.0      1   \n",
        "42                                Kraeff, Mr. Theodor    male   NaN      0   \n",
        "43           Laroche, Miss. Simonne Marie Anne Andree  female   3.0      1   \n",
        "44                      Devaney, Miss. Margaret Delia  female  19.0      0   \n",
        "45                           Rogers, Mr. William John    male   NaN      0   \n",
        "46                                  Lennon, Mr. Denis    male   NaN      1   \n",
        "47                          O'Driscoll, Miss. Bridget  female   NaN      0   \n",
        "48                                Samaan, Mr. Youssef    male   NaN      2   \n",
        "49      Arnold-Franchi, Mrs. Josef (Josefine Franchi)  female  18.0      1   \n",
        "50                         Panula, Master. Juha Niilo    male   7.0      4   \n",
        "51                       Nosworthy, Mr. Richard Cater    male  21.0      0   \n",
        "52           Harper, Mrs. Henry Sleeper (Myna Haxtun)  female  49.0      1   \n",
        "53  Faunthorpe, Mrs. Lizzie (Elizabeth Anne Wilkin...  female  29.0      1   \n",
        "54                     Ostby, Mr. Engelhart Cornelius    male  65.0      0   \n",
        "55                                  Woolner, Mr. Hugh    male   NaN      0   \n",
        "56                                  Rugg, Miss. Emily  female  21.0      0   \n",
        "57                                Novel, Mr. Mansouer    male  28.5      0   \n",
        "58                       West, Miss. Constance Mirium  female   5.0      1   \n",
        "59                 Goodwin, Master. William Frederick    male  11.0      5   \n",
        "                                                  ...     ...   ...    ...   \n",
        "\n",
        "    Parch            Ticket      Fare        Cabin Embarked  \n",
        "0       0         A/5 21171    7.2500          NaN        S  \n",
        "1       0          PC 17599   71.2833          C85        C  \n",
        "2       0  STON/O2. 3101282    7.9250          NaN        S  \n",
        "3       0            113803   53.1000         C123        S  \n",
        "4       0            373450    8.0500          NaN        S  \n",
        "5       0            330877    8.4583          NaN        Q  \n",
        "6       0             17463   51.8625          E46        S  \n",
        "7       1            349909   21.0750          NaN        S  \n",
        "8       2            347742   11.1333          NaN        S  \n",
        "9       0            237736   30.0708          NaN        C  \n",
        "10      1           PP 9549   16.7000           G6        S  \n",
        "11      0            113783   26.5500         C103        S  \n",
        "12      0         A/5. 2151    8.0500          NaN        S  \n",
        "13      5            347082   31.2750          NaN        S  \n",
        "14      0            350406    7.8542          NaN        S  \n",
        "15      0            248706   16.0000          NaN        S  \n",
        "16      1            382652   29.1250          NaN        Q  \n",
        "17      0            244373   13.0000          NaN        S  \n",
        "18      0            345763   18.0000          NaN        S  \n",
        "19      0              2649    7.2250          NaN        C  \n",
        "20      0            239865   26.0000          NaN        S  \n",
        "21      0            248698   13.0000          D56        S  \n",
        "22      0            330923    8.0292          NaN        Q  \n",
        "23      0            113788   35.5000           A6        S  \n",
        "24      1            349909   21.0750          NaN        S  \n",
        "25      5            347077   31.3875          NaN        S  \n",
        "26      0              2631    7.2250          NaN        C  \n",
        "27      2             19950  263.0000  C23 C25 C27        S  \n",
        "28      0            330959    7.8792          NaN        Q  \n",
        "29      0            349216    7.8958          NaN        S  \n",
        "30      0          PC 17601   27.7208          NaN        C  \n",
        "31      0          PC 17569  146.5208          B78        C  \n",
        "32      0            335677    7.7500          NaN        Q  \n",
        "33      0        C.A. 24579   10.5000          NaN        S  \n",
        "34      0          PC 17604   82.1708          NaN        C  \n",
        "35      0            113789   52.0000          NaN        S  \n",
        "36      0              2677    7.2292          NaN        C  \n",
        "37      0        A./5. 2152    8.0500          NaN        S  \n",
        "38      0            345764   18.0000          NaN        S  \n",
        "39      0              2651   11.2417          NaN        C  \n",
        "40      0              7546    9.4750          NaN        S  \n",
        "41      0             11668   21.0000          NaN        S  \n",
        "42      0            349253    7.8958          NaN        C  \n",
        "43      2     SC/Paris 2123   41.5792          NaN        C  \n",
        "44      0            330958    7.8792          NaN        Q  \n",
        "45      0   S.C./A.4. 23567    8.0500          NaN        S  \n",
        "46      0            370371   15.5000          NaN        Q  \n",
        "47      0             14311    7.7500          NaN        Q  \n",
        "48      0              2662   21.6792          NaN        C  \n",
        "49      0            349237   17.8000          NaN        S  \n",
        "50      1           3101295   39.6875          NaN        S  \n",
        "51      0        A/4. 39886    7.8000          NaN        S  \n",
        "52      0          PC 17572   76.7292          D33        C  \n",
        "53      0              2926   26.0000          NaN        S  \n",
        "54      1            113509   61.9792          B30        C  \n",
        "55      0             19947   35.5000          C52        S  \n",
        "56      0        C.A. 31026   10.5000          NaN        S  \n",
        "57      0              2697    7.2292          NaN        C  \n",
        "58      2        C.A. 34651   27.7500          NaN        S  \n",
        "59      2           CA 2144   46.9000          NaN        S  \n",
        "      ...               ...       ...          ...      ...  \n",
        "\n",
        "[891 rows x 12 columns]\n"
       ]
      }
     ],
     "prompt_number": 12
    },
    {
     "cell_type": "code",
     "collapsed": false,
     "input": [
      "get_prices = get_historical_prices('GOOG','20140101','20140106')\n",
      "\n",
      "df = pd.DataFrame(get_prices[1:], columns = get_prices[0], dtype=int).set_index('Date')\n",
      "\n",
      "df.head()"
     ],
     "language": "python",
     "metadata": {},
     "outputs": [
      {
       "ename": "AssertionError",
       "evalue": "1 columns passed, passed data had 5 columns",
       "output_type": "pyerr",
       "traceback": [
        "\u001b[0;31m---------------------------------------------------------------------------\u001b[0m\n\u001b[0;31mAssertionError\u001b[0m                            Traceback (most recent call last)",
        "\u001b[0;32m<ipython-input-14-c7a3e7c2f9f6>\u001b[0m in \u001b[0;36m<module>\u001b[0;34m()\u001b[0m\n\u001b[1;32m      1\u001b[0m \u001b[0mget_prices\u001b[0m \u001b[0;34m=\u001b[0m \u001b[0mget_historical_prices\u001b[0m\u001b[0;34m(\u001b[0m\u001b[0;34m'GOOG'\u001b[0m\u001b[0;34m,\u001b[0m\u001b[0;34m'20140101'\u001b[0m\u001b[0;34m,\u001b[0m\u001b[0;34m'20140106'\u001b[0m\u001b[0;34m)\u001b[0m\u001b[0;34m\u001b[0m\u001b[0m\n\u001b[1;32m      2\u001b[0m \u001b[0;34m\u001b[0m\u001b[0m\n\u001b[0;32m----> 3\u001b[0;31m \u001b[0mdf\u001b[0m \u001b[0;34m=\u001b[0m \u001b[0mpd\u001b[0m\u001b[0;34m.\u001b[0m\u001b[0mDataFrame\u001b[0m\u001b[0;34m(\u001b[0m\u001b[0mget_prices\u001b[0m\u001b[0;34m[\u001b[0m\u001b[0;36m1\u001b[0m\u001b[0;34m:\u001b[0m\u001b[0;34m]\u001b[0m\u001b[0;34m,\u001b[0m \u001b[0mcolumns\u001b[0m \u001b[0;34m=\u001b[0m \u001b[0mget_prices\u001b[0m\u001b[0;34m[\u001b[0m\u001b[0;36m0\u001b[0m\u001b[0;34m]\u001b[0m\u001b[0;34m,\u001b[0m \u001b[0mdtype\u001b[0m\u001b[0;34m=\u001b[0m\u001b[0mint\u001b[0m\u001b[0;34m)\u001b[0m\u001b[0;34m.\u001b[0m\u001b[0mset_index\u001b[0m\u001b[0;34m(\u001b[0m\u001b[0;34m'Date'\u001b[0m\u001b[0;34m)\u001b[0m\u001b[0;34m\u001b[0m\u001b[0m\n\u001b[0m\u001b[1;32m      4\u001b[0m \u001b[0;34m\u001b[0m\u001b[0m\n\u001b[1;32m      5\u001b[0m \u001b[0mdf\u001b[0m\u001b[0;34m.\u001b[0m\u001b[0mhead\u001b[0m\u001b[0;34m(\u001b[0m\u001b[0;34m)\u001b[0m\u001b[0;34m\u001b[0m\u001b[0m\n",
        "\u001b[0;32m/Users/saryamane/anaconda/lib/python2.7/site-packages/pandas/core/frame.pyc\u001b[0m in \u001b[0;36m__init__\u001b[0;34m(self, data, index, columns, dtype, copy)\u001b[0m\n\u001b[1;32m    239\u001b[0m \u001b[0;34m\u001b[0m\u001b[0m\n\u001b[1;32m    240\u001b[0m                 \u001b[0;32mif\u001b[0m \u001b[0mis_list_like\u001b[0m\u001b[0;34m(\u001b[0m\u001b[0mdata\u001b[0m\u001b[0;34m[\u001b[0m\u001b[0;36m0\u001b[0m\u001b[0;34m]\u001b[0m\u001b[0;34m)\u001b[0m \u001b[0;32mand\u001b[0m \u001b[0mgetattr\u001b[0m\u001b[0;34m(\u001b[0m\u001b[0mdata\u001b[0m\u001b[0;34m[\u001b[0m\u001b[0;36m0\u001b[0m\u001b[0;34m]\u001b[0m\u001b[0;34m,\u001b[0m \u001b[0;34m'ndim'\u001b[0m\u001b[0;34m,\u001b[0m \u001b[0;36m1\u001b[0m\u001b[0;34m)\u001b[0m \u001b[0;34m==\u001b[0m \u001b[0;36m1\u001b[0m\u001b[0;34m:\u001b[0m\u001b[0;34m\u001b[0m\u001b[0m\n\u001b[0;32m--> 241\u001b[0;31m                     \u001b[0marrays\u001b[0m\u001b[0;34m,\u001b[0m \u001b[0mcolumns\u001b[0m \u001b[0;34m=\u001b[0m \u001b[0m_to_arrays\u001b[0m\u001b[0;34m(\u001b[0m\u001b[0mdata\u001b[0m\u001b[0;34m,\u001b[0m \u001b[0mcolumns\u001b[0m\u001b[0;34m,\u001b[0m \u001b[0mdtype\u001b[0m\u001b[0;34m=\u001b[0m\u001b[0mdtype\u001b[0m\u001b[0;34m)\u001b[0m\u001b[0;34m\u001b[0m\u001b[0m\n\u001b[0m\u001b[1;32m    242\u001b[0m                     \u001b[0mcolumns\u001b[0m \u001b[0;34m=\u001b[0m \u001b[0m_ensure_index\u001b[0m\u001b[0;34m(\u001b[0m\u001b[0mcolumns\u001b[0m\u001b[0;34m)\u001b[0m\u001b[0;34m\u001b[0m\u001b[0m\n\u001b[1;32m    243\u001b[0m \u001b[0;34m\u001b[0m\u001b[0m\n",
        "\u001b[0;32m/Users/saryamane/anaconda/lib/python2.7/site-packages/pandas/core/frame.pyc\u001b[0m in \u001b[0;36m_to_arrays\u001b[0;34m(data, columns, coerce_float, dtype)\u001b[0m\n\u001b[1;32m   4581\u001b[0m     \u001b[0;32mif\u001b[0m \u001b[0misinstance\u001b[0m\u001b[0;34m(\u001b[0m\u001b[0mdata\u001b[0m\u001b[0;34m[\u001b[0m\u001b[0;36m0\u001b[0m\u001b[0;34m]\u001b[0m\u001b[0;34m,\u001b[0m \u001b[0;34m(\u001b[0m\u001b[0mlist\u001b[0m\u001b[0;34m,\u001b[0m \u001b[0mtuple\u001b[0m\u001b[0;34m)\u001b[0m\u001b[0;34m)\u001b[0m\u001b[0;34m:\u001b[0m\u001b[0;34m\u001b[0m\u001b[0m\n\u001b[1;32m   4582\u001b[0m         return _list_to_arrays(data, columns, coerce_float=coerce_float,\n\u001b[0;32m-> 4583\u001b[0;31m                                dtype=dtype)\n\u001b[0m\u001b[1;32m   4584\u001b[0m     \u001b[0;32melif\u001b[0m \u001b[0misinstance\u001b[0m\u001b[0;34m(\u001b[0m\u001b[0mdata\u001b[0m\u001b[0;34m[\u001b[0m\u001b[0;36m0\u001b[0m\u001b[0;34m]\u001b[0m\u001b[0;34m,\u001b[0m \u001b[0mcollections\u001b[0m\u001b[0;34m.\u001b[0m\u001b[0mMapping\u001b[0m\u001b[0;34m)\u001b[0m\u001b[0;34m:\u001b[0m\u001b[0;34m\u001b[0m\u001b[0m\n\u001b[1;32m   4585\u001b[0m         return _list_of_dict_to_arrays(data, columns,\n",
        "\u001b[0;32m/Users/saryamane/anaconda/lib/python2.7/site-packages/pandas/core/frame.pyc\u001b[0m in \u001b[0;36m_list_to_arrays\u001b[0;34m(data, columns, coerce_float, dtype)\u001b[0m\n\u001b[1;32m   4660\u001b[0m         \u001b[0mcontent\u001b[0m \u001b[0;34m=\u001b[0m \u001b[0mlist\u001b[0m\u001b[0;34m(\u001b[0m\u001b[0mlib\u001b[0m\u001b[0;34m.\u001b[0m\u001b[0mto_object_array\u001b[0m\u001b[0;34m(\u001b[0m\u001b[0mdata\u001b[0m\u001b[0;34m)\u001b[0m\u001b[0;34m.\u001b[0m\u001b[0mT\u001b[0m\u001b[0;34m)\u001b[0m\u001b[0;34m\u001b[0m\u001b[0m\n\u001b[1;32m   4661\u001b[0m     return _convert_object_array(content, columns, dtype=dtype,\n\u001b[0;32m-> 4662\u001b[0;31m                                  coerce_float=coerce_float)\n\u001b[0m\u001b[1;32m   4663\u001b[0m \u001b[0;34m\u001b[0m\u001b[0m\n\u001b[1;32m   4664\u001b[0m \u001b[0;34m\u001b[0m\u001b[0m\n",
        "\u001b[0;32m/Users/saryamane/anaconda/lib/python2.7/site-packages/pandas/core/frame.pyc\u001b[0m in \u001b[0;36m_convert_object_array\u001b[0;34m(content, columns, coerce_float, dtype)\u001b[0m\n\u001b[1;32m   4718\u001b[0m             \u001b[0;31m# caller's responsibility to check for this...\u001b[0m\u001b[0;34m\u001b[0m\u001b[0;34m\u001b[0m\u001b[0m\n\u001b[1;32m   4719\u001b[0m             raise AssertionError('%d columns passed, passed data had %s '\n\u001b[0;32m-> 4720\u001b[0;31m                                  'columns' % (len(columns), len(content)))\n\u001b[0m\u001b[1;32m   4721\u001b[0m \u001b[0;34m\u001b[0m\u001b[0m\n\u001b[1;32m   4722\u001b[0m     \u001b[0;31m# provide soft conversion of object dtypes\u001b[0m\u001b[0;34m\u001b[0m\u001b[0;34m\u001b[0m\u001b[0m\n",
        "\u001b[0;31mAssertionError\u001b[0m: 1 columns passed, passed data had 5 columns"
       ]
      }
     ],
     "prompt_number": 14
    },
    {
     "cell_type": "code",
     "collapsed": false,
     "input": [
      "df.info()"
     ],
     "language": "python",
     "metadata": {},
     "outputs": [
      {
       "ename": "NameError",
       "evalue": "name 'df' is not defined",
       "output_type": "pyerr",
       "traceback": [
        "\u001b[0;31m---------------------------------------------------------------------------\u001b[0m\n\u001b[0;31mNameError\u001b[0m                                 Traceback (most recent call last)",
        "\u001b[0;32m<ipython-input-15-857958930b27>\u001b[0m in \u001b[0;36m<module>\u001b[0;34m()\u001b[0m\n\u001b[0;32m----> 1\u001b[0;31m \u001b[0mdf\u001b[0m\u001b[0;34m.\u001b[0m\u001b[0minfo\u001b[0m\u001b[0;34m(\u001b[0m\u001b[0;34m)\u001b[0m\u001b[0;34m\u001b[0m\u001b[0m\n\u001b[0m",
        "\u001b[0;31mNameError\u001b[0m: name 'df' is not defined"
       ]
      }
     ],
     "prompt_number": 15
    },
    {
     "cell_type": "code",
     "collapsed": false,
     "input": [
      "df.Open[0]"
     ],
     "language": "python",
     "metadata": {},
     "outputs": [
      {
       "ename": "NameError",
       "evalue": "name 'df' is not defined",
       "output_type": "pyerr",
       "traceback": [
        "\u001b[0;31m---------------------------------------------------------------------------\u001b[0m\n\u001b[0;31mNameError\u001b[0m                                 Traceback (most recent call last)",
        "\u001b[0;32m<ipython-input-16-ee91a3c850ef>\u001b[0m in \u001b[0;36m<module>\u001b[0;34m()\u001b[0m\n\u001b[0;32m----> 1\u001b[0;31m \u001b[0mdf\u001b[0m\u001b[0;34m.\u001b[0m\u001b[0mOpen\u001b[0m\u001b[0;34m[\u001b[0m\u001b[0;36m0\u001b[0m\u001b[0;34m]\u001b[0m\u001b[0;34m\u001b[0m\u001b[0m\n\u001b[0m",
        "\u001b[0;31mNameError\u001b[0m: name 'df' is not defined"
       ]
      }
     ],
     "prompt_number": 16
    },
    {
     "cell_type": "code",
     "collapsed": false,
     "input": [
      "import requests\n",
      "import csv\n",
      "import pprint"
     ],
     "language": "python",
     "metadata": {},
     "outputs": [],
     "prompt_number": 17
    },
    {
     "cell_type": "code",
     "collapsed": false,
     "input": [
      "stock_symbol = raw_input(\"Enter the stock symbol: \")\n",
      "start_date = raw_input(\"Enter the start date in the format MM-DD-YYYY: \")\n",
      "end_date = raw_input(\"Enter the end date in the format MM-DD-YYYY: \")"
     ],
     "language": "python",
     "metadata": {},
     "outputs": [
      {
       "name": "stdout",
       "output_type": "stream",
       "stream": "stdout",
       "text": [
        "Enter the stock symbol: GOOG\n"
       ]
      },
      {
       "name": "stdout",
       "output_type": "stream",
       "stream": "stdout",
       "text": [
        "Enter the start date in the format MM-DD-YYYY: 05-01-2014\n"
       ]
      },
      {
       "name": "stdout",
       "output_type": "stream",
       "stream": "stdout",
       "text": [
        "Enter the end date in the format MM-DD-YYYY: 05-30-2014\n"
       ]
      }
     ],
     "prompt_number": 21
    },
    {
     "cell_type": "code",
     "collapsed": false,
     "input": [
      "s_month, s_day, s_year = start_date.split('-')\n",
      "e_month, e_day, e_year = end_date.split('-')\n",
      "s_month = int(s_month)-1\n",
      "e_month = int(e_month)-1\n",
      "s_day = int(s_day) - 1"
     ],
     "language": "python",
     "metadata": {},
     "outputs": [
      {
       "metadata": {},
       "output_type": "pyout",
       "prompt_number": 20,
       "text": [
        "'GOOG'"
       ]
      }
     ],
     "prompt_number": 20
    },
    {
     "cell_type": "code",
     "collapsed": false,
     "input": [
      "!pip install twitter"
     ],
     "language": "python",
     "metadata": {},
     "outputs": [
      {
       "output_type": "stream",
       "stream": "stdout",
       "text": [
        "Requirement already satisfied (use --upgrade to upgrade): twitter in /Users/saryamane/anaconda/lib/python2.7/site-packages\r\n",
        "Cleaning up...\r\n"
       ]
      }
     ],
     "prompt_number": 22
    },
    {
     "cell_type": "code",
     "collapsed": false,
     "input": [
      "!pip install twitter --upgrade"
     ],
     "language": "python",
     "metadata": {},
     "outputs": [
      {
       "output_type": "stream",
       "stream": "stdout",
       "text": [
        "Downloading/unpacking twitter from https://pypi.python.org/packages/2.7/t/twitter/twitter-1.15.0-py2.py3-none-any.whl#md5=eb044af1e634792c7503979316949a1a\r\n"
       ]
      },
      {
       "output_type": "stream",
       "stream": "stdout",
       "text": [
        "  Downloading twitter-1.15.0-py2.py3-none-any.whl (50kB): \r",
        "  Downloading twitter-1.15.0-py2.py3-none-any.whl (50kB):   8%  4.1kB\r",
        "  Downloading twitter-1.15.0-py2.py3-none-any.whl (50kB):  16%  8.2kB"
       ]
      },
      {
       "output_type": "stream",
       "stream": "stdout",
       "text": [
        "\r",
        "  Downloading twitter-1.15.0-py2.py3-none-any.whl (50kB):  24%  12kB \r",
        "  Downloading twitter-1.15.0-py2.py3-none-any.whl (50kB):  32%  16kB\r",
        "  Downloading twitter-1.15.0-py2.py3-none-any.whl (50kB):  40%  20kB\r",
        "  Downloading twitter-1.15.0-py2.py3-none-any.whl (50kB):  48%  24kB\r",
        "  Downloading twitter-1.15.0-py2.py3-none-any.whl (50kB):  56%  28kB\r",
        "  Downloading twitter-1.15.0-py2.py3-none-any.whl (50kB):  64%  32kB"
       ]
      },
      {
       "output_type": "stream",
       "stream": "stdout",
       "text": [
        "\r",
        "  Downloading twitter-1.15.0-py2.py3-none-any.whl (50kB):  72%  36kB\r",
        "  Downloading twitter-1.15.0-py2.py3-none-any.whl (50kB):  80%  40kB\r",
        "  Downloading twitter-1.15.0-py2.py3-none-any.whl (50kB):  88%  45kB\r",
        "  Downloading twitter-1.15.0-py2.py3-none-any.whl (50kB):  96%  49kB\r",
        "  Downloading twitter-1.15.0-py2.py3-none-any.whl (50kB): 100%  50kB\r",
        "  Downloading twitter-1.15.0-py2.py3-none-any.whl (50kB):           \r",
        "  Downloading twitter-1.15.0-py2.py3-none-any.whl (50kB): 50kB downloaded\r\n"
       ]
      },
      {
       "output_type": "stream",
       "stream": "stdout",
       "text": [
        "Installing collected packages: twitter\r\n",
        "  Found existing installation: twitter 1.14.1\r\n",
        "    Uninstalling twitter:\r\n",
        "      Successfully uninstalled twitter\r\n"
       ]
      },
      {
       "output_type": "stream",
       "stream": "stdout",
       "text": [
        "Successfully installed twitter\r\n",
        "Cleaning up...\r\n"
       ]
      }
     ],
     "prompt_number": 24
    },
    {
     "cell_type": "code",
     "collapsed": false,
     "input": [
      "import twitter"
     ],
     "language": "python",
     "metadata": {},
     "outputs": [],
     "prompt_number": 25
    }
   ],
   "metadata": {}
  }
 ]
}